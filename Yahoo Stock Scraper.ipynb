{
 "cells": [
  {
   "cell_type": "code",
   "execution_count": 3,
   "metadata": {
    "nbpresent": {
     "id": "2d145004-526a-4745-a163-a7f23f6f3baf"
    }
   },
   "outputs": [],
   "source": [
    "import pandas_datareader.data as web\n",
    "import datetime\n",
    "import matplotlib\n",
    "matplotlib.use\n",
    "import matplotlib.pyplot as plt\n",
    "plt.style.use('ggplot')"
   ]
  },
  {
   "cell_type": "code",
   "execution_count": 4,
   "metadata": {
    "nbpresent": {
     "id": "faedb1a6-0512-4f85-9701-341f35e38af1"
    }
   },
   "outputs": [],
   "source": [
    "%matplotlib inline"
   ]
  },
  {
   "cell_type": "code",
   "execution_count": 21,
   "metadata": {
    "nbpresent": {
     "id": "a77b0438-cdbc-4436-a618-589c6f4b0347"
    }
   },
   "outputs": [],
   "source": [
    "start = datetime.datetime(2020, 12, 1)\n",
    "end = datetime.datetime(2021, 1, 1)"
   ]
  },
  {
   "cell_type": "code",
   "execution_count": 29,
   "metadata": {
    "nbpresent": {
     "id": "0f37596c-7e1f-4936-9f8c-d9c872bcda2a"
    }
   },
   "outputs": [],
   "source": [
    "f=web.DataReader(\"SNOW\", 'yahoo', start, end)"
   ]
  },
  {
   "cell_type": "code",
   "execution_count": 30,
   "metadata": {
    "nbpresent": {
     "id": "f29674fc-4f71-4373-8fee-50c59bdd5346"
    }
   },
   "outputs": [
    {
     "data": {
      "text/html": [
       "<div>\n",
       "<style scoped>\n",
       "    .dataframe tbody tr th:only-of-type {\n",
       "        vertical-align: middle;\n",
       "    }\n",
       "\n",
       "    .dataframe tbody tr th {\n",
       "        vertical-align: top;\n",
       "    }\n",
       "\n",
       "    .dataframe thead th {\n",
       "        text-align: right;\n",
       "    }\n",
       "</style>\n",
       "<table border=\"1\" class=\"dataframe\">\n",
       "  <thead>\n",
       "    <tr style=\"text-align: right;\">\n",
       "      <th></th>\n",
       "      <th>High</th>\n",
       "      <th>Low</th>\n",
       "      <th>Open</th>\n",
       "      <th>Close</th>\n",
       "      <th>Volume</th>\n",
       "      <th>Adj Close</th>\n",
       "    </tr>\n",
       "    <tr>\n",
       "      <th>Date</th>\n",
       "      <th></th>\n",
       "      <th></th>\n",
       "      <th></th>\n",
       "      <th></th>\n",
       "      <th></th>\n",
       "      <th></th>\n",
       "    </tr>\n",
       "  </thead>\n",
       "  <tbody>\n",
       "    <tr>\n",
       "      <th>2020-12-01</th>\n",
       "      <td>326.000000</td>\n",
       "      <td>302.279999</td>\n",
       "      <td>321.630005</td>\n",
       "      <td>305.640015</td>\n",
       "      <td>2659300</td>\n",
       "      <td>305.640015</td>\n",
       "    </tr>\n",
       "    <tr>\n",
       "      <th>2020-12-02</th>\n",
       "      <td>306.739990</td>\n",
       "      <td>288.000000</td>\n",
       "      <td>293.790009</td>\n",
       "      <td>292.690002</td>\n",
       "      <td>3575300</td>\n",
       "      <td>292.690002</td>\n",
       "    </tr>\n",
       "    <tr>\n",
       "      <th>2020-12-03</th>\n",
       "      <td>343.000000</td>\n",
       "      <td>289.000000</td>\n",
       "      <td>290.540009</td>\n",
       "      <td>339.890015</td>\n",
       "      <td>11102600</td>\n",
       "      <td>339.890015</td>\n",
       "    </tr>\n",
       "    <tr>\n",
       "      <th>2020-12-04</th>\n",
       "      <td>395.799988</td>\n",
       "      <td>334.000000</td>\n",
       "      <td>335.399994</td>\n",
       "      <td>387.700012</td>\n",
       "      <td>18611700</td>\n",
       "      <td>387.700012</td>\n",
       "    </tr>\n",
       "    <tr>\n",
       "      <th>2020-12-07</th>\n",
       "      <td>404.429993</td>\n",
       "      <td>371.000000</td>\n",
       "      <td>393.500000</td>\n",
       "      <td>388.959991</td>\n",
       "      <td>8134900</td>\n",
       "      <td>388.959991</td>\n",
       "    </tr>\n",
       "  </tbody>\n",
       "</table>\n",
       "</div>"
      ],
      "text/plain": [
       "                  High         Low        Open       Close    Volume  \\\n",
       "Date                                                                   \n",
       "2020-12-01  326.000000  302.279999  321.630005  305.640015   2659300   \n",
       "2020-12-02  306.739990  288.000000  293.790009  292.690002   3575300   \n",
       "2020-12-03  343.000000  289.000000  290.540009  339.890015  11102600   \n",
       "2020-12-04  395.799988  334.000000  335.399994  387.700012  18611700   \n",
       "2020-12-07  404.429993  371.000000  393.500000  388.959991   8134900   \n",
       "\n",
       "             Adj Close  \n",
       "Date                    \n",
       "2020-12-01  305.640015  \n",
       "2020-12-02  292.690002  \n",
       "2020-12-03  339.890015  \n",
       "2020-12-04  387.700012  \n",
       "2020-12-07  388.959991  "
      ]
     },
     "execution_count": 30,
     "metadata": {},
     "output_type": "execute_result"
    }
   ],
   "source": [
    "f.head()"
   ]
  },
  {
   "cell_type": "code",
   "execution_count": 31,
   "metadata": {
    "nbpresent": {
     "id": "96f850bc-0d7e-4a72-a076-f94040d72410"
    }
   },
   "outputs": [
    {
     "data": {
      "text/plain": [
       "<AxesSubplot:xlabel='Date'>"
      ]
     },
     "execution_count": 31,
     "metadata": {},
     "output_type": "execute_result"
    },
    {
     "data": {
      "image/png": "[encoded data removed]",
      "text/plain": [
       "<Figure size 432x288 with 1 Axes>"
      ]
     },
     "metadata": {
      "needs_background": "light"
     },
     "output_type": "display_data"
    }
   ],
   "source": [
    "f.plot(y=\"Close\")"
   ]
  },
  {
   "cell_type": "code",
   "execution_count": 28,
   "metadata": {
    "nbpresent": {
     "id": "f35e16fb-1cdc-423d-b840-fd386e00d9f7"
    }
   },
   "outputs": [
    {
     "data": {
      "text/plain": [
       "<AxesSubplot:xlabel='Date'>"
      ]
     },
     "execution_count": 28,
     "metadata": {},
     "output_type": "execute_result"
    },
    {
     "data": {
      "image/png": "[encoded data removed]",
      "text/plain": [
       "<Figure size 432x288 with 1 Axes>"
      ]
     },
     "metadata": {
      "needs_background": "light"
     },
     "output_type": "display_data"
    }
   ],
   "source": [
    "import numpy as np\n",
    "f.plot.bar(y=\"Volume\", color=\"Blue\")"
   ]
  },
  {
   "cell_type": "code",
   "execution_count": 33,
   "metadata": {},
   "outputs": [],
   "source": [
    "df = web.get_data_yahoo('aapl', start='2020-1-1', end='2020-10-1')"
   ]
  },
  {
   "cell_type": "code",
   "execution_count": 38,
   "metadata": {},
   "outputs": [
    {
     "data": {
      "text/plain": [
       "<AxesSubplot:xlabel='Date'>"
      ]
     },
     "execution_count": 38,
     "metadata": {},
     "output_type": "execute_result"
    },
    {
     "data": {
      "image/png": "[encoded data removed]",
      "text/plain": [
       "<Figure size 432x288 with 1 Axes>"
      ]
     },
     "metadata": {
      "needs_background": "light"
     },
     "output_type": "display_data"
    }
   ],
   "source": [
    "df['Close'].plot()"
   ]
  }
 ],
 "metadata": {
  "kernelspec": {
   "display_name": "Python 3",
   "language": "python",
   "name": "python3"
  },
  "language_info": {
   "codemirror_mode": {
    "name": "ipython",
    "version": 3
   },
   "file_extension": ".py",
   "mimetype": "text/x-python",
   "name": "python",
   "nbconvert_exporter": "python",
   "pygments_lexer": "ipython3",
   "version": "3.8.5"
  }
 },
 "nbformat": 4,
 "nbformat_minor": 1
}
